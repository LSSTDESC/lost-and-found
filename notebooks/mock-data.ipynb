{
 "cells": [
  {
   "cell_type": "markdown",
   "metadata": {},
   "source": [
    "# Data-to-graph demo\n",
    "\n",
    "_Ismael Mendoza (UMich) & Alex Malz (CMU)_"
   ]
  },
  {
   "cell_type": "code",
   "execution_count": null,
   "metadata": {},
   "outputs": [],
   "source": [
    "import matplotlib.pyplot as plt\n",
    "import numpy as np\n",
    "import pickle "
   ]
  },
  {
   "cell_type": "code",
   "execution_count": null,
   "metadata": {},
   "outputs": [],
   "source": [
    "import networkx as nx"
   ]
  },
  {
   "cell_type": "markdown",
   "metadata": {},
   "source": [
    "## Load data\n",
    "\n",
    "This notebook shows how to load the mock data from BTK provided in `/data/mock.pkl`"
   ]
  },
  {
   "cell_type": "code",
   "execution_count": null,
   "metadata": {},
   "outputs": [],
   "source": [
    "images, true, pred = pickle.load(open('../data/mock.pkl', 'rb'))\n",
    "images.shape"
   ]
  },
  {
   "cell_type": "markdown",
   "metadata": {},
   "source": [
    "`images` is 100 postage stamps, 6 photometric bands, 120x120 pixels each\n",
    "\n",
    "`true` and `pred` are lists of astropy tables with columns for the `x` and `y` coordinates of the centroids and a `flux` value for each source, one table per postage stamp"
   ]
  },
  {
   "cell_type": "code",
   "execution_count": null,
   "metadata": {},
   "outputs": [],
   "source": [
    "idx = np.random.randint(0, len(images))\n",
    "idx"
   ]
  },
  {
   "cell_type": "code",
   "execution_count": null,
   "metadata": {},
   "outputs": [],
   "source": [
    "band_idx = 2\n",
    "fig, ax = plt.subplots(1,1, figsize=(8,8))\n",
    "ax.imshow(images[idx,band_idx], cmap='gray')\n",
    "ax.scatter(\n",
    "    true[idx][\"x\"],\n",
    "    true[idx][\"y\"],\n",
    "    color=\"blue\",\n",
    "    marker=\"x\",\n",
    "    label=\"True centroids\",\n",
    "    s=150,\n",
    "    linewidth=3,\n",
    ")\n",
    "ax.scatter(\n",
    "    pred[idx][\"x\"],\n",
    "    pred[idx][\"y\"],\n",
    "    color=\"red\",\n",
    "    marker=\"+\",\n",
    "    label=\"Pred centroids\",\n",
    "    s=150,\n",
    "    linewidth=3,\n",
    ")\n",
    "\n",
    "# add colorbar to axis\n",
    "cbar = fig.colorbar(ax.images[0], ax=ax)\n",
    "cbar.ax.set_ylabel(\"Flux\", rotation=-90, va=\"bottom\", fontsize=20)\n",
    "\n",
    "# add legend to axis\n",
    "ax.legend(loc=\"upper right\")"
   ]
  },
  {
   "cell_type": "markdown",
   "metadata": {},
   "source": [
    "## interpret one as graph"
   ]
  },
  {
   "cell_type": "code",
   "execution_count": null,
   "metadata": {},
   "outputs": [],
   "source": [
    "# true[idx].add_column([str(ind)+'true' for ind in range(len(true[idx]))], index=0, name='index')\n",
    "# pred[idx].add_column([str(ind)+'pred' for ind in range(len(pred[idx]))], index=0, name='index')\n",
    "\n",
    "true[idx].add_column(['T'+str(round(np.log10(t['flux']), 2)) for t in true[idx]], name='mag')\n",
    "pred[idx].add_column(['P'+str(round(np.log10(p['flux']), 2)) for p in pred[idx]], name='mag')"
   ]
  },
  {
   "cell_type": "markdown",
   "metadata": {},
   "source": [
    "let's associate a notion of weight with the edges, and let's make the weight like an inverse distance"
   ]
  },
  {
   "cell_type": "code",
   "execution_count": null,
   "metadata": {},
   "outputs": [],
   "source": [
    "def get_dist(a, b):\n",
    "    dx = a['x'] - b['x']\n",
    "    dy = a['y'] - b['y']\n",
    "    d = np.sqrt(dx**2 + dy**2)\n",
    "    return d"
   ]
  },
  {
   "cell_type": "code",
   "execution_count": null,
   "metadata": {},
   "outputs": [],
   "source": [
    "edgelist = []\n",
    "for t in true[idx]:\n",
    "    for p in pred[idx]:\n",
    "        edgelist.append((t['mag'], p['mag'], round(1./get_dist(t, p), 3)))"
   ]
  },
  {
   "cell_type": "code",
   "execution_count": null,
   "metadata": {},
   "outputs": [],
   "source": [
    "G = nx.Graph()\n",
    "G.add_nodes_from(true[idx]['mag'], bipartite=0)\n",
    "G.add_nodes_from(pred[idx]['mag'], bipartite=1)\n",
    "G.add_weighted_edges_from(edgelist)"
   ]
  },
  {
   "cell_type": "code",
   "execution_count": null,
   "metadata": {},
   "outputs": [],
   "source": [
    "G.edges.data('weight')"
   ]
  },
  {
   "cell_type": "code",
   "execution_count": null,
   "metadata": {},
   "outputs": [],
   "source": [
    "nx.bipartite.sets(G)[0]"
   ]
  },
  {
   "cell_type": "code",
   "execution_count": null,
   "metadata": {},
   "outputs": [],
   "source": [
    "edge_widths = [len(G.get_edge_data(u, v)) for u, v in G.edges()]\n",
    "\n",
    "# pos = nx.bipartite_layout(G, nx.bipartite.sets(G)[0])\n",
    "pos = nx.bipartite_layout(G, nx.bipartite.sets(G)[0])\n",
    "# pos_p = nx.bipartite_layout(G, nx.bipartite.sets(G)[1])\n",
    "nx.draw_networkx_nodes(G, pos, nodelist=nx.bipartite.sets(G)[0], node_color=\"blue\", label='True')\n",
    "nx.draw_networkx_nodes(G, pos, nodelist=nx.bipartite.sets(G)[1], node_color=\"red\", label='Pred')\n",
    "# nx.draw(G, with_labels=True)\n",
    "# edge_labels = nx.get_edge_attributes(G, \"weight\")\n",
    "# pos = nx.spring_layout(G, seed=7)\n",
    "# top = G\n",
    "\n",
    "# top = nx.bipartite.sets(G)[1]\n",
    "nx.draw_networkx_edges(G, pos, width=edge_widths)"
   ]
  },
  {
   "cell_type": "markdown",
   "metadata": {},
   "source": [
    "## make all into graphs"
   ]
  },
  {
   "cell_type": "markdown",
   "metadata": {},
   "source": [
    "## explore diagnostics on \"real\" data\n",
    "\n",
    "bipartite.spectral_bipartivity(G)\n",
    "\n"
   ]
  },
  {
   "cell_type": "code",
   "execution_count": null,
   "metadata": {},
   "outputs": [],
   "source": []
  }
 ],
 "metadata": {
  "kernelspec": {
   "display_name": "BL (Python 3)",
   "language": "python",
   "name": "bl_3"
  },
  "language_info": {
   "codemirror_mode": {
    "name": "ipython",
    "version": 3
   },
   "file_extension": ".py",
   "mimetype": "text/x-python",
   "name": "python",
   "nbconvert_exporter": "python",
   "pygments_lexer": "ipython3",
   "version": "3.10.6"
  },
  "vscode": {
   "interpreter": {
    "hash": "c411fe6f835e35218bcd26717713b352ce7a09bb5535e0e9cc1c9aab7e0a8e4b"
   }
  }
 },
 "nbformat": 4,
 "nbformat_minor": 2
}
