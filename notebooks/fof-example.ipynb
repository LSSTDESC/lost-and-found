{
 "cells": [
  {
   "cell_type": "code",
   "execution_count": 2,
   "metadata": {},
   "outputs": [],
   "source": [
    "import numpy as np\n",
    "from astropy.table import Table\n",
    "import FoFCatalogMatching\n",
    "\n",
    "n = 100\n",
    "ra = np.random.uniform(0, 360, n)\n",
    "dec = np.random.uniform(-90, 90, n)\n",
    "\n",
    "cat_a = Table({'ra': ra, 'dec': dec})\n",
    "cat_b = Table({'ra': ra+np.random.normal(0, 0.0002, n), 'dec': dec+np.random.normal(0, 0.0002, n)})\n",
    "\n",
    "results = FoFCatalogMatching.match({'a': cat_a, 'b':cat_b}, \n",
    "                                   {3.0: 3, 2.0: 3, 1: None})"
   ]
  },
  {
   "cell_type": "code",
   "execution_count": 3,
   "metadata": {},
   "outputs": [
    {
     "data": {
      "text/html": [
       "<div><i>Table length=200</i>\n",
       "<table id=\"table140392020510944\" class=\"table-striped table-bordered table-condensed\">\n",
       "<thead><tr><th>row_index</th><th>catalog_key</th><th>group_id</th></tr></thead>\n",
       "<thead><tr><th>int64</th><th>str1</th><th>int64</th></tr></thead>\n",
       "<tr><td>0</td><td>a</td><td>0</td></tr>\n",
       "<tr><td>0</td><td>b</td><td>0</td></tr>\n",
       "<tr><td>1</td><td>a</td><td>1</td></tr>\n",
       "<tr><td>1</td><td>b</td><td>1</td></tr>\n",
       "<tr><td>2</td><td>a</td><td>2</td></tr>\n",
       "<tr><td>2</td><td>b</td><td>2</td></tr>\n",
       "<tr><td>3</td><td>a</td><td>3</td></tr>\n",
       "<tr><td>3</td><td>b</td><td>3</td></tr>\n",
       "<tr><td>4</td><td>a</td><td>4</td></tr>\n",
       "<tr><td>4</td><td>b</td><td>4</td></tr>\n",
       "<tr><td>...</td><td>...</td><td>...</td></tr>\n",
       "<tr><td>95</td><td>a</td><td>95</td></tr>\n",
       "<tr><td>95</td><td>b</td><td>95</td></tr>\n",
       "<tr><td>96</td><td>a</td><td>96</td></tr>\n",
       "<tr><td>96</td><td>b</td><td>96</td></tr>\n",
       "<tr><td>97</td><td>a</td><td>97</td></tr>\n",
       "<tr><td>97</td><td>b</td><td>97</td></tr>\n",
       "<tr><td>98</td><td>a</td><td>98</td></tr>\n",
       "<tr><td>98</td><td>b</td><td>98</td></tr>\n",
       "<tr><td>99</td><td>a</td><td>99</td></tr>\n",
       "<tr><td>99</td><td>b</td><td>99</td></tr>\n",
       "</table></div>"
      ],
      "text/plain": [
       "<Table length=200>\n",
       "row_index catalog_key group_id\n",
       "  int64       str1     int64  \n",
       "--------- ----------- --------\n",
       "        0           a        0\n",
       "        0           b        0\n",
       "        1           a        1\n",
       "        1           b        1\n",
       "        2           a        2\n",
       "        2           b        2\n",
       "        3           a        3\n",
       "        3           b        3\n",
       "        4           a        4\n",
       "        4           b        4\n",
       "      ...         ...      ...\n",
       "       95           a       95\n",
       "       95           b       95\n",
       "       96           a       96\n",
       "       96           b       96\n",
       "       97           a       97\n",
       "       97           b       97\n",
       "       98           a       98\n",
       "       98           b       98\n",
       "       99           a       99\n",
       "       99           b       99"
      ]
     },
     "execution_count": 3,
     "metadata": {},
     "output_type": "execute_result"
    }
   ],
   "source": [
    "results"
   ]
  },
  {
   "cell_type": "code",
   "execution_count": null,
   "metadata": {},
   "outputs": [],
   "source": []
  }
 ],
 "metadata": {
  "kernelspec": {
   "display_name": "Python 3.8.13 ('laf')",
   "language": "python",
   "name": "python3"
  },
  "language_info": {
   "codemirror_mode": {
    "name": "ipython",
    "version": 3
   },
   "file_extension": ".py",
   "mimetype": "text/x-python",
   "name": "python",
   "nbconvert_exporter": "python",
   "pygments_lexer": "ipython3",
   "version": "3.8.13"
  },
  "orig_nbformat": 4,
  "vscode": {
   "interpreter": {
    "hash": "9d0374830a26898c0c79e8924c44ff3d23a53bcc84d8142f722b9892d39fca2d"
   }
  }
 },
 "nbformat": 4,
 "nbformat_minor": 2
}
