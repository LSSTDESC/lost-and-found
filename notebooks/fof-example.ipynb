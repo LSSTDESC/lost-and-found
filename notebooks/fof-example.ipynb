{
 "cells": [
  {
   "cell_type": "code",
   "execution_count": 1,
   "metadata": {},
   "outputs": [],
   "source": [
    "import matplotlib.pyplot as plt"
   ]
  },
  {
   "cell_type": "markdown",
   "metadata": {},
   "source": [
    "make some mock data"
   ]
  },
  {
   "cell_type": "code",
   "execution_count": 2,
   "metadata": {},
   "outputs": [],
   "source": [
    "import numpy as np\n",
    "from astropy.table import Table\n",
    "\n",
    "n = 100\n",
    "ra = np.random.uniform(0, 0.1, n)\n",
    "dec = np.random.uniform(-0.05, 0.05, n)\n",
    "mag = np.random.uniform(24., 27., n)\n",
    "\n",
    "true = Table({'ra': ra, 'dec': dec, 'mag': mag})\n",
    "pred = Table({'ra': ra+np.random.normal(0, 0.1, n), 'dec': dec+np.random.normal(0, 0.1, n), 'mag': mag+np.random.normal(0, 0.1, n)})\n"
   ]
  },
  {
   "cell_type": "code",
   "execution_count": 3,
   "metadata": {},
   "outputs": [],
   "source": [
    "pos_true = np.vstack([ra, dec]).T\n",
    "pos_pred = np.vstack([pred['ra'].value, pred['dec'].value]).T"
   ]
  },
  {
   "cell_type": "code",
   "execution_count": 4,
   "metadata": {},
   "outputs": [
    {
     "data": {
      "text/plain": [
       "<matplotlib.collections.PathCollection at 0x7f8422728d00>"
      ]
     },
     "execution_count": 4,
     "metadata": {},
     "output_type": "execute_result"
    },
    {
     "data": {
      "image/png": "[encoded data removed]",
      "text/plain": [
       "<Figure size 640x480 with 1 Axes>"
      ]
     },
     "metadata": {},
     "output_type": "display_data"
    }
   ],
   "source": [
    "plt.scatter(pos_true[:, 0], pos_true[:, 1], c='k')\n",
    "plt.scatter(pos_pred[:, 0], pos_pred[:, 1], c='r')\n"
   ]
  },
  {
   "cell_type": "markdown",
   "metadata": {},
   "source": [
    "perform a matching"
   ]
  },
  {
   "cell_type": "code",
   "execution_count": 5,
   "metadata": {},
   "outputs": [],
   "source": [
    "from scipy.spatial import KDTree\n",
    "tree_true = KDTree(pos_true) # kdtree \n",
    "tree_pred = KDTree(pos_pred)"
   ]
  },
  {
   "cell_type": "code",
   "execution_count": 6,
   "metadata": {},
   "outputs": [],
   "source": [
    "matches = tree_true.query_ball_tree(tree_pred, r=0.01)"
   ]
  },
  {
   "cell_type": "code",
   "execution_count": 7,
   "metadata": {
    "scrolled": true
   },
   "outputs": [
    {
     "data": {
      "text/plain": [
       "[[],\n",
       " [],\n",
       " [],\n",
       " [],\n",
       " [],\n",
       " [27],\n",
       " [],\n",
       " [],\n",
       " [],\n",
       " [],\n",
       " [54],\n",
       " [],\n",
       " [],\n",
       " [21],\n",
       " [],\n",
       " [],\n",
       " [59],\n",
       " [],\n",
       " [],\n",
       " [],\n",
       " [],\n",
       " [],\n",
       " [10],\n",
       " [],\n",
       " [],\n",
       " [10],\n",
       " [],\n",
       " [],\n",
       " [36],\n",
       " [],\n",
       " [],\n",
       " [],\n",
       " [],\n",
       " [],\n",
       " [],\n",
       " [],\n",
       " [],\n",
       " [],\n",
       " [],\n",
       " [20],\n",
       " [],\n",
       " [],\n",
       " [10],\n",
       " [],\n",
       " [],\n",
       " [],\n",
       " [],\n",
       " [],\n",
       " [],\n",
       " [],\n",
       " [],\n",
       " [],\n",
       " [],\n",
       " [],\n",
       " [],\n",
       " [83],\n",
       " [],\n",
       " [],\n",
       " [],\n",
       " [],\n",
       " [],\n",
       " [],\n",
       " [],\n",
       " [],\n",
       " [36],\n",
       " [],\n",
       " [],\n",
       " [70],\n",
       " [],\n",
       " [],\n",
       " [10],\n",
       " [21],\n",
       " [],\n",
       " [27],\n",
       " [],\n",
       " [],\n",
       " [],\n",
       " [21],\n",
       " [59],\n",
       " [],\n",
       " [],\n",
       " [],\n",
       " [27],\n",
       " [],\n",
       " [],\n",
       " [],\n",
       " [],\n",
       " [],\n",
       " [27],\n",
       " [10],\n",
       " [],\n",
       " [59],\n",
       " [],\n",
       " [54],\n",
       " [],\n",
       " [36],\n",
       " [],\n",
       " [],\n",
       " [],\n",
       " [35]]"
      ]
     },
     "execution_count": 7,
     "metadata": {},
     "output_type": "execute_result"
    }
   ],
   "source": [
    "matches"
   ]
  },
  {
   "cell_type": "markdown",
   "metadata": {},
   "source": [
    "true IDs that never found a match in the predicted catalog"
   ]
  },
  {
   "cell_type": "code",
   "execution_count": 8,
   "metadata": {
    "scrolled": true
   },
   "outputs": [
    {
     "data": {
      "text/plain": [
       "[0,\n",
       " 1,\n",
       " 2,\n",
       " 3,\n",
       " 4,\n",
       " 6,\n",
       " 7,\n",
       " 8,\n",
       " 9,\n",
       " 11,\n",
       " 12,\n",
       " 14,\n",
       " 15,\n",
       " 17,\n",
       " 18,\n",
       " 19,\n",
       " 20,\n",
       " 21,\n",
       " 23,\n",
       " 24,\n",
       " 26,\n",
       " 27,\n",
       " 29,\n",
       " 30,\n",
       " 31,\n",
       " 32,\n",
       " 33,\n",
       " 34,\n",
       " 35,\n",
       " 36,\n",
       " 37,\n",
       " 38,\n",
       " 40,\n",
       " 41,\n",
       " 43,\n",
       " 44,\n",
       " 45,\n",
       " 46,\n",
       " 47,\n",
       " 48,\n",
       " 49,\n",
       " 50,\n",
       " 51,\n",
       " 52,\n",
       " 53,\n",
       " 54,\n",
       " 56,\n",
       " 57,\n",
       " 58,\n",
       " 59,\n",
       " 60,\n",
       " 61,\n",
       " 62,\n",
       " 63,\n",
       " 65,\n",
       " 66,\n",
       " 68,\n",
       " 69,\n",
       " 72,\n",
       " 74,\n",
       " 75,\n",
       " 76,\n",
       " 79,\n",
       " 80,\n",
       " 81,\n",
       " 83,\n",
       " 84,\n",
       " 85,\n",
       " 86,\n",
       " 87,\n",
       " 90,\n",
       " 92,\n",
       " 94,\n",
       " 96,\n",
       " 97,\n",
       " 98]"
      ]
     },
     "execution_count": 8,
     "metadata": {},
     "output_type": "execute_result"
    }
   ],
   "source": [
    "id_lost = []\n",
    "for i, true_id in enumerate(matches):\n",
    "    if true_id == []:\n",
    "        id_lost.append(i)\n",
    "id_lost"
   ]
  },
  {
   "cell_type": "markdown",
   "metadata": {},
   "source": [
    "IDs that were predicted but didn't match to truth"
   ]
  },
  {
   "cell_type": "code",
   "execution_count": 9,
   "metadata": {
    "scrolled": true
   },
   "outputs": [],
   "source": [
    "flatmatch = set([x for match in matches for x in match])"
   ]
  },
  {
   "cell_type": "code",
   "execution_count": 10,
   "metadata": {},
   "outputs": [],
   "source": [
    "all_pred_ids = set(range(len(pred)))"
   ]
  },
  {
   "cell_type": "code",
   "execution_count": 26,
   "metadata": {},
   "outputs": [],
   "source": [
    "id_found = list(all_pred_ids - flatmatch)"
   ]
  },
  {
   "cell_type": "code",
   "execution_count": 27,
   "metadata": {},
   "outputs": [],
   "source": [
    "# from astropy.table import Table\n",
    "# def count_matches(match_info):\n",
    "#     \"\"\"For each group the number of matches in that group\"\"\"\n",
    "    \n",
    "#     _, counts = np.unique(match_info['group_id'], return_counts=True)\n",
    "#     return counts - 1"
   ]
  },
  {
   "cell_type": "markdown",
   "metadata": {},
   "source": [
    "class for match info"
   ]
  },
  {
   "cell_type": "code",
   "execution_count": 22,
   "metadata": {},
   "outputs": [],
   "source": [
    "class match_info():\n",
    "    def __init__(self, matches, true_inds, pred_inds, ancil=None):\n",
    "        assert(len(matches) == len(true_inds))\n",
    "        # generalize this later\n",
    "        \n",
    "        self.matches = matches\n",
    "        self.lost = self.__get_lost__()\n",
    "        self.found = self.__get_found__(pred_inds)\n",
    "        \n",
    "    def __get_lost__(self):\n",
    "        id_lost = []\n",
    "        for i, true_id in enumerate(self.matches):\n",
    "            if true_id == []:\n",
    "                id_lost.append(i)\n",
    "        return(id_lost)\n",
    "    \n",
    "    def __get_found__(self, pred_inds):\n",
    "        all_pred_ids = set(pred_inds)\n",
    "        flatmatch = set([x for match in self.matches for x in match])\n",
    "        id_found = all_pred_ids - flatmatch\n",
    "        return(list(id_found))\n",
    "    \n",
    "    def count_matches(self):\n",
    "        counts = [len(match) for match in self.matches]\n",
    "        return(counts)\n",
    "    \n",
    "    # the non-image metrics here\n",
    "    \n",
    "    def __str__(self):\n",
    "        # gives IQR of matches, count lost, count found\n",
    "        return('hello world')"
   ]
  },
  {
   "cell_type": "code",
   "execution_count": 23,
   "metadata": {},
   "outputs": [],
   "source": [
    "test_match = match_info(matches, list(range(n)), list(range(n)))"
   ]
  },
  {
   "cell_type": "code",
   "execution_count": 24,
   "metadata": {},
   "outputs": [
    {
     "data": {
      "text/plain": [
       "True"
      ]
     },
     "execution_count": 24,
     "metadata": {},
     "output_type": "execute_result"
    }
   ],
   "source": [
    "test_match.lost == id_lost"
   ]
  },
  {
   "cell_type": "code",
   "execution_count": 28,
   "metadata": {},
   "outputs": [
    {
     "data": {
      "text/plain": [
       "True"
      ]
     },
     "execution_count": 28,
     "metadata": {},
     "output_type": "execute_result"
    }
   ],
   "source": [
    "test_match.found == id_found"
   ]
  },
  {
   "cell_type": "code",
   "execution_count": 29,
   "metadata": {
    "scrolled": true
   },
   "outputs": [
    {
     "data": {
      "text/plain": [
       "[0,\n",
       " 0,\n",
       " 0,\n",
       " 0,\n",
       " 0,\n",
       " 1,\n",
       " 0,\n",
       " 0,\n",
       " 0,\n",
       " 0,\n",
       " 1,\n",
       " 0,\n",
       " 0,\n",
       " 1,\n",
       " 0,\n",
       " 0,\n",
       " 1,\n",
       " 0,\n",
       " 0,\n",
       " 0,\n",
       " 0,\n",
       " 0,\n",
       " 1,\n",
       " 0,\n",
       " 0,\n",
       " 1,\n",
       " 0,\n",
       " 0,\n",
       " 1,\n",
       " 0,\n",
       " 0,\n",
       " 0,\n",
       " 0,\n",
       " 0,\n",
       " 0,\n",
       " 0,\n",
       " 0,\n",
       " 0,\n",
       " 0,\n",
       " 1,\n",
       " 0,\n",
       " 0,\n",
       " 1,\n",
       " 0,\n",
       " 0,\n",
       " 0,\n",
       " 0,\n",
       " 0,\n",
       " 0,\n",
       " 0,\n",
       " 0,\n",
       " 0,\n",
       " 0,\n",
       " 0,\n",
       " 0,\n",
       " 1,\n",
       " 0,\n",
       " 0,\n",
       " 0,\n",
       " 0,\n",
       " 0,\n",
       " 0,\n",
       " 0,\n",
       " 0,\n",
       " 1,\n",
       " 0,\n",
       " 0,\n",
       " 1,\n",
       " 0,\n",
       " 0,\n",
       " 1,\n",
       " 1,\n",
       " 0,\n",
       " 1,\n",
       " 0,\n",
       " 0,\n",
       " 0,\n",
       " 1,\n",
       " 1,\n",
       " 0,\n",
       " 0,\n",
       " 0,\n",
       " 1,\n",
       " 0,\n",
       " 0,\n",
       " 0,\n",
       " 0,\n",
       " 0,\n",
       " 1,\n",
       " 1,\n",
       " 0,\n",
       " 1,\n",
       " 0,\n",
       " 1,\n",
       " 0,\n",
       " 1,\n",
       " 0,\n",
       " 0,\n",
       " 0,\n",
       " 1]"
      ]
     },
     "execution_count": 29,
     "metadata": {},
     "output_type": "execute_result"
    }
   ],
   "source": [
    "test_match.count_matches()"
   ]
  },
  {
   "cell_type": "markdown",
   "metadata": {},
   "source": [
    "easy metrics"
   ]
  },
  {
   "cell_type": "code",
   "execution_count": 31,
   "metadata": {},
   "outputs": [
    {
     "data": {
      "text/plain": [
       "(array([ 7.,  7., 13.,  9.,  7.,  7.,  5.,  9.,  7.,  5.]),\n",
       " array([23.93578474, 24.25034685, 24.56490895, 24.87947106, 25.19403316,\n",
       "        25.50859527, 25.82315738, 26.13771948, 26.45228159, 26.7668437 ,\n",
       "        27.0814058 ]),\n",
       " <BarContainer object of 10 artists>)"
      ]
     },
     "execution_count": 31,
     "metadata": {},
     "output_type": "execute_result"
    },
    {
     "data": {
      "image/png": "[encoded data removed]",
      "text/plain": [
       "<Figure size 640x480 with 1 Axes>"
      ]
     },
     "metadata": {},
     "output_type": "display_data"
    }
   ],
   "source": [
    "plt.hist(true['mag'][test_match.lost])"
   ]
  },
  {
   "cell_type": "code",
   "execution_count": 32,
   "metadata": {},
   "outputs": [
    {
     "data": {
      "text/plain": [
       "(array([11.,  6., 13.,  9., 11.,  7.,  6., 13.,  5.,  9.]),\n",
       " array([24.01460373, 24.31043074, 24.60625775, 24.90208475, 25.19791176,\n",
       "        25.49373877, 25.78956577, 26.08539278, 26.38121979, 26.6770468 ,\n",
       "        26.9728738 ]),\n",
       " <BarContainer object of 10 artists>)"
      ]
     },
     "execution_count": 32,
     "metadata": {},
     "output_type": "execute_result"
    },
    {
     "data": {
      "image/png": "[encoded data removed]",
      "text/plain": [
       "<Figure size 640x480 with 1 Axes>"
      ]
     },
     "metadata": {},
     "output_type": "display_data"
    }
   ],
   "source": [
    "plt.hist(pred['mag'][test_match.found])"
   ]
  },
  {
   "cell_type": "code",
   "execution_count": null,
   "metadata": {},
   "outputs": [],
   "source": []
  }
 ],
 "metadata": {
  "kernelspec": {
   "display_name": "BL (Python 3)",
   "language": "python",
   "name": "bl_3"
  },
  "language_info": {
   "codemirror_mode": {
    "name": "ipython",
    "version": 3
   },
   "file_extension": ".py",
   "mimetype": "text/x-python",
   "name": "python",
   "nbconvert_exporter": "python",
   "pygments_lexer": "ipython3",
   "version": "3.10.4"
  },
  "vscode": {
   "interpreter": {
    "hash": "9d0374830a26898c0c79e8924c44ff3d23a53bcc84d8142f722b9892d39fca2d"
   }
  }
 },
 "nbformat": 4,
 "nbformat_minor": 2
}
