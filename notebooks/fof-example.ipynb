{
 "cells": [
  {
   "cell_type": "code",
   "execution_count": 31,
   "metadata": {},
   "outputs": [],
   "source": [
    "import matplotlib.pyplot as plt"
   ]
  },
  {
   "cell_type": "code",
   "execution_count": 1,
   "metadata": {},
   "outputs": [],
   "source": [
    "import numpy as np\n",
    "from astropy.table import Table\n",
    "\n",
    "n = 100\n",
    "ra = np.random.uniform(0, 0.1, n)\n",
    "dec = np.random.uniform(-0.05, 0.05, n)\n",
    "\n",
    "true = Table({'ra': ra, 'dec': dec})\n",
    "pred = Table({'ra': ra+np.random.normal(0, 0.1, n), 'dec': dec+np.random.normal(0, 0.1, n)})\n"
   ]
  },
  {
   "cell_type": "code",
   "execution_count": 15,
   "metadata": {},
   "outputs": [],
   "source": [
    "pos_true = np.vstack([ra, dec]).T\n",
    "pos_pred = np.vstack([pred['ra'].value, pred['dec'].value]).T"
   ]
  },
  {
   "cell_type": "code",
   "execution_count": 28,
   "metadata": {},
   "outputs": [],
   "source": [
    "from scipy.spatial import KDTree\n",
    "tree_true = KDTree(pos_true) # kdtree \n",
    "tree_pred = KDTree(pos_pred)"
   ]
  },
  {
   "cell_type": "code",
   "execution_count": 33,
   "metadata": {},
   "outputs": [],
   "source": [
    "matches = tree_true.query_ball_tree(tree_pred, r=0.01)"
   ]
  },
  {
   "cell_type": "code",
   "execution_count": 34,
   "metadata": {},
   "outputs": [
    {
     "data": {
      "text/plain": [
       "[[],\n",
       " [],\n",
       " [],\n",
       " [],\n",
       " [],\n",
       " [],\n",
       " [],\n",
       " [],\n",
       " [48, 70],\n",
       " [14],\n",
       " [],\n",
       " [],\n",
       " [97],\n",
       " [29],\n",
       " [],\n",
       " [],\n",
       " [],\n",
       " [],\n",
       " [],\n",
       " [65, 85],\n",
       " [],\n",
       " [],\n",
       " [],\n",
       " [],\n",
       " [29],\n",
       " [74],\n",
       " [14],\n",
       " [],\n",
       " [],\n",
       " [29],\n",
       " [21],\n",
       " [37, 97],\n",
       " [],\n",
       " [65, 85],\n",
       " [],\n",
       " [],\n",
       " [],\n",
       " [],\n",
       " [],\n",
       " [],\n",
       " [],\n",
       " [],\n",
       " [55],\n",
       " [],\n",
       " [],\n",
       " [21],\n",
       " [],\n",
       " [],\n",
       " [94],\n",
       " [],\n",
       " [48, 85],\n",
       " [],\n",
       " [74],\n",
       " [48, 70],\n",
       " [37, 97],\n",
       " [],\n",
       " [33, 74],\n",
       " [99],\n",
       " [94],\n",
       " [],\n",
       " [55],\n",
       " [33],\n",
       " [14],\n",
       " [94],\n",
       " [48, 85],\n",
       " [],\n",
       " [],\n",
       " [],\n",
       " [33],\n",
       " [],\n",
       " [],\n",
       " [],\n",
       " [],\n",
       " [35],\n",
       " [],\n",
       " [],\n",
       " [],\n",
       " [],\n",
       " [],\n",
       " [],\n",
       " [],\n",
       " [],\n",
       " [55],\n",
       " [],\n",
       " [85],\n",
       " [],\n",
       " [],\n",
       " [],\n",
       " [],\n",
       " [],\n",
       " [55],\n",
       " [],\n",
       " [65],\n",
       " [],\n",
       " [48],\n",
       " [],\n",
       " [],\n",
       " [],\n",
       " [],\n",
       " []]"
      ]
     },
     "execution_count": 34,
     "metadata": {},
     "output_type": "execute_result"
    }
   ],
   "source": [
    "matches"
   ]
  },
  {
   "cell_type": "code",
   "execution_count": 32,
   "metadata": {},
   "outputs": [
    {
     "data": {
      "text/plain": [
       "<matplotlib.collections.PathCollection at 0x7fa1d09169d0>"
      ]
     },
     "execution_count": 32,
     "metadata": {},
     "output_type": "execute_result"
    },
    {
     "data": {
      "image/png": "[encoded data removed]",
      "text/plain": [
       "<Figure size 432x288 with 1 Axes>"
      ]
     },
     "metadata": {
      "needs_background": "light"
     },
     "output_type": "display_data"
    }
   ],
   "source": [
    "plt.scatter(pos_true[:, 0], pos_true[:, 1], c='k')\n",
    "plt.scatter(pos_pred[:, 0], pos_pred[:, 1], c='r')\n"
   ]
  },
  {
   "cell_type": "code",
   "execution_count": null,
   "metadata": {},
   "outputs": [],
   "source": [
    "from astropy.table import Table\n",
    "def count_matches(match_info):\n",
    "    \"\"\"For each group the number of matches in that group\"\"\"\n",
    "    \n",
    "    _, counts = np.unique(match_info['group_id'], return_counts=True)\n",
    "    return counts - 1"
   ]
  },
  {
   "cell_type": "code",
   "execution_count": null,
   "metadata": {},
   "outputs": [],
   "source": []
  }
 ],
 "metadata": {
  "kernelspec": {
   "display_name": "Python 3.8.13 ('laf')",
   "language": "python",
   "name": "python3"
  },
  "language_info": {
   "codemirror_mode": {
    "name": "ipython",
    "version": 3
   },
   "file_extension": ".py",
   "mimetype": "text/x-python",
   "name": "python",
   "nbconvert_exporter": "python",
   "pygments_lexer": "ipython3",
   "version": "3.8.13"
  },
  "orig_nbformat": 4,
  "vscode": {
   "interpreter": {
    "hash": "9d0374830a26898c0c79e8924c44ff3d23a53bcc84d8142f722b9892d39fca2d"
   }
  }
 },
 "nbformat": 4,
 "nbformat_minor": 2
}
