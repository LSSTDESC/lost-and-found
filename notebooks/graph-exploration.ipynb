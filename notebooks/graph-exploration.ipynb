{
 "cells": [
  {
   "cell_type": "markdown",
   "id": "7eefb8a3",
   "metadata": {},
   "source": [
    "### experiments with `networkx`\n",
    "\n",
    "_Alex Malz (CMU)_"
   ]
  },
  {
   "cell_type": "code",
   "execution_count": null,
   "id": "460e0ce0",
   "metadata": {},
   "outputs": [],
   "source": [
    "import matplotlib.pyplot as plt\n",
    "import networkx as nx"
   ]
  },
  {
   "cell_type": "markdown",
   "id": "82452ae3",
   "metadata": {},
   "source": [
    "nodes can be objects (coordinates, images, etc.), and edges can be associated with objects"
   ]
  },
  {
   "cell_type": "code",
   "execution_count": null,
   "id": "dda6d084",
   "metadata": {},
   "outputs": [],
   "source": [
    "G = nx.Graph()\n",
    "G.add_node(('ra100','dec100'))\n",
    "G.add_nodes_from([200, 300])\n",
    "G.add_edge(('ra100','dec100'), 200, object={'overlap': 40})\n",
    "\n",
    "e1 = (200, 300)\n",
    "e2 = (('ra100','dec100'), 300)\n",
    "e = [e1, e2]\n",
    "\n",
    "G.add_edges_from(e)  # unpack edge tuple*\n",
    "print(G[('ra100','dec100')])\n",
    "nx.draw(G, with_labels=True)"
   ]
  },
  {
   "cell_type": "code",
   "execution_count": null,
   "id": "1ce1c7f2",
   "metadata": {},
   "outputs": [],
   "source": [
    "G.nodes"
   ]
  },
  {
   "cell_type": "markdown",
   "id": "3a79d5d1",
   "metadata": {},
   "source": [
    "there are [many i/o formats](https://networkx.org/documentation/stable/reference/readwrite/index.html)!\n",
    "we need to figure out what would be best for downstream consumers to parse. . ."
   ]
  },
  {
   "cell_type": "code",
   "execution_count": null,
   "id": "7e51bb0f",
   "metadata": {},
   "outputs": [],
   "source": [
    "nx.write_gpickle(G, 'test.pkl')"
   ]
  },
  {
   "cell_type": "code",
   "execution_count": null,
   "id": "ba8cde37",
   "metadata": {},
   "outputs": [],
   "source": [
    "J = nx.read_gpickle('test.pkl')"
   ]
  },
  {
   "cell_type": "code",
   "execution_count": null,
   "id": "c16c4f3f",
   "metadata": {},
   "outputs": [],
   "source": [
    "J.adj"
   ]
  },
  {
   "cell_type": "code",
   "execution_count": null,
   "id": "3b24243a",
   "metadata": {},
   "outputs": [],
   "source": [
    "G.add_nodes_from([\n",
    "\n",
    "    (4, {\"color\": \"red\"}),\n",
    "\n",
    "    (5, {\"color\": \"green\"}),\n",
    "\n",
    "])\n",
    "G.add_edge(('ra100','dec100'), 4, object={'overlap': 50})\n",
    "nx.draw(G, with_labels=True)"
   ]
  },
  {
   "cell_type": "code",
   "execution_count": null,
   "id": "ebd35a84",
   "metadata": {},
   "outputs": [],
   "source": [
    "I = nx.Graph()\n",
    "I.add_weighted_edges_from([(0, 1, 3.0), (1, 2, 7.5)])\n",
    "#  Each edge given in the list or container will be added\n",
    "#  |          to the graph. The edges must be given as 3-tuples (u, v, w)\n",
    "nx.draw(I, with_labels=True)"
   ]
  },
  {
   "cell_type": "code",
   "execution_count": null,
   "id": "321c7717",
   "metadata": {},
   "outputs": [],
   "source": [
    "G.adj"
   ]
  },
  {
   "cell_type": "markdown",
   "id": "6424f43e",
   "metadata": {},
   "source": [
    "we can combine graphs representing postage stamps to make one for a whole catalog, and it will know the association between them"
   ]
  },
  {
   "cell_type": "code",
   "execution_count": null,
   "id": "56bbcee1",
   "metadata": {},
   "outputs": [],
   "source": [
    "H = nx.path_graph(10)\n",
    "\n",
    "G.add_nodes_from(H)\n",
    "G.add_node(H)\n",
    "G.add_edges_from([(1, 2), (1, 3)])\n",
    "G.add_edges_from(H.edges)\n",
    "nx.draw(G, with_labels=True)"
   ]
  },
  {
   "cell_type": "code",
   "execution_count": null,
   "id": "e3ad4838",
   "metadata": {},
   "outputs": [],
   "source": [
    "G.degree()"
   ]
  },
  {
   "cell_type": "markdown",
   "id": "ee77cda4",
   "metadata": {},
   "source": [
    "TODO: show the different real cases of nontrivial detections/matches/blends"
   ]
  },
  {
   "cell_type": "markdown",
   "id": "932c66bb",
   "metadata": {},
   "source": [
    "TODO: on real data?"
   ]
  },
  {
   "cell_type": "markdown",
   "id": "082e651c",
   "metadata": {},
   "source": [
    "we really want directed graphs, which seem to work similarly"
   ]
  },
  {
   "cell_type": "code",
   "execution_count": null,
   "id": "4dec8794",
   "metadata": {},
   "outputs": [],
   "source": [
    "DG = nx.DiGraph()\n",
    "\n",
    "DG.add_edge(2, 1)   # adds the nodes in order 2, 1\n",
    "\n",
    "DG.add_edge(1, 3)\n",
    "\n",
    "DG.add_edge(3, 1)\n",
    "\n",
    "DG.add_edge(2, 4)\n",
    "\n",
    "DG.add_edge(1, 2)\n",
    "\n",
    "assert list(DG.successors(2)) == [1, 4]\n",
    "\n",
    "# assert list(DG.edges) == [(2, 1), (2, 4), (1, 3), (1, 2)]\n",
    "nx.draw(DG, with_labels=True)"
   ]
  },
  {
   "cell_type": "markdown",
   "id": "416b4c2a",
   "metadata": {},
   "source": [
    "the real question is whether we benefit from bipartite structure. . ."
   ]
  },
  {
   "cell_type": "code",
   "execution_count": null,
   "id": "1fb08af2",
   "metadata": {},
   "outputs": [],
   "source": [
    "from networkx.algorithms import bipartite"
   ]
  },
  {
   "cell_type": "code",
   "execution_count": null,
   "id": "1b966800",
   "metadata": {},
   "outputs": [],
   "source": [
    "B = nx.Graph()\n",
    "\n",
    "# Add nodes with the node attribute \"bipartite\"\n",
    "\n",
    "B.add_nodes_from([1, 2, 3, 4], bipartite=0)\n",
    "\n",
    "B.add_nodes_from([\"a\", \"b\", \"c\"], bipartite=1)\n",
    "\n",
    "# Add edges only between nodes of opposite node sets\n",
    "\n",
    "B.add_edges_from([(1, \"a\"), (1, \"b\"), (2, \"b\"), (2, \"c\"), (2, \"a\"), (3, \"c\"), (4, \"a\")])\n",
    "B.add_edges_from([(\"a\", \"b\")])\n",
    "nx.draw(B, with_labels=True)"
   ]
  },
  {
   "cell_type": "code",
   "execution_count": null,
   "id": "e1c5b448",
   "metadata": {},
   "outputs": [],
   "source": [
    "C = G.to_directed()\n",
    "nx.draw(C, with_labels=True)"
   ]
  },
  {
   "cell_type": "markdown",
   "id": "fb36d30f",
   "metadata": {},
   "source": [
    "TODO: explore more properties of bipartite"
   ]
  },
  {
   "cell_type": "markdown",
   "id": "eff32bee",
   "metadata": {},
   "source": [
    "TODO: convert from native FoF output"
   ]
  }
 ],
 "metadata": {
  "kernelspec": {
   "display_name": "BL (Python 3)",
   "language": "python",
   "name": "bl_3"
  },
  "language_info": {
   "codemirror_mode": {
    "name": "ipython",
    "version": 3
   },
   "file_extension": ".py",
   "mimetype": "text/x-python",
   "name": "python",
   "nbconvert_exporter": "python",
   "pygments_lexer": "ipython3",
   "version": "3.10.6"
  }
 },
 "nbformat": 4,
 "nbformat_minor": 5
}
